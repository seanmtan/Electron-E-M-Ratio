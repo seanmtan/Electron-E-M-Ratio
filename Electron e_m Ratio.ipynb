{
 "cells": [
  {
   "cell_type": "markdown",
   "metadata": {},
   "source": [
    "# Header\n",
    "<h4>Calculating the Electron charge to mass ratio</h4>\n",
    "Sean Tan, Justin Marin, Mihir Lad\n",
    "<br>June 30th 2016\n",
    "# Experimental Method\n",
    "The method we used is similar to that used by J.J. Thompson, who was the first to make a direct measurement of the charge to mass ratio of the electron.\n",
    "\n",
    "The first apparatus that we used included a Helmholtz coil that produced a uniform magnetic field between the two coils and held a discharge tube filled with helium gas and a cm scale for measuring the radius of the curvature of the electron path. \n",
    "\n",
    "The second apparatus contained the power supply that provides the current for the Helmholtz coils and the voltage for the electron source. \n",
    "\n",
    "As the electrons leave the gun with a known velocity, it will enter the discharge tube and curve relative to the magnetic field created by the Helmholtz coils. \n",
    "\n",
    "By measuring the radius of the curvature as a function of the magnetic field and the accelerating potential, you will be able to obtain a data set from which the ratio e/m can be determined.\n",
    "\n",
    "\n",
    "The equation for the increase in kinetic engery from the accelerating potential of $V_{0}$ is\n",
    "\n",
    "            \n",
    "           1) e$V_{0}$=m$v^{2}$/2\n",
    "            \n",
    "\n",
    "When the electron enters the discharge tube with a speed perpindicular to the magnetic field created by the coils, the force on the charge can be found using \n",
    "\n",
    "           \n",
    "           2) $\\vec{F}$=e$\\vec{v}$x$\\vec{B}$\n",
    "           \n",
    "\n",
    "Because B and v are perpendicular, the cross product reduces to give a simpler relation of\n",
    "\n",
    "           \n",
    "           3) F=evB=m$v^{2}$/R\n",
    "           \n",
    "\n",
    "Rearranging to isolate the $\\frac{e}{m}$ ratio we get\n",
    "\n",
    "            \n",
    "           4) $\\frac{e}{m}$=$\\frac{2V_{0}}{R^{2}B^{2}}$\n",
    "            \n",
    "\n",
    "By measuring for R for different combinations of $V_{0}$ and B we can determine the $\\frac{e}{m}$ of the electron.\n"
   ]
  },
  {
   "cell_type": "markdown",
   "metadata": {},
   "source": [
    "# Data"
   ]
  },
  {
   "cell_type": "code",
   "execution_count": 27,
   "metadata": {},
   "outputs": [
    {
     "data": {
      "text/html": [
       "<table><tr><td>$\\Delta$V (Voltage)</td><td>$\\Delta$D (Diameter in cm)</td><td>$\\Delta$I (Current in Amps)</td></tr><tr><td>0.1</td><td>1</td><td>0.001</td></tr></table>"
      ],
      "text/plain": [
       "<IPython.core.display.HTML object>"
      ]
     },
     "metadata": {},
     "output_type": "display_data"
    },
    {
     "data": {
      "text/html": [
       "<table><tr><td>Voltage [V]</td><td>Diameter [cm]</td><td>Current [A]</td></tr><tr><td>166</td><td>5</td><td>2.001</td></tr><tr><td>226</td><td>6</td><td>2.001</td></tr><tr><td>295</td><td>7</td><td>2.001</td></tr><tr><td>382</td><td>8</td><td>2.001</td></tr><tr><td>476</td><td>9</td><td>2.001</td></tr></table>"
      ],
      "text/plain": [
       "<IPython.core.display.HTML object>"
      ]
     },
     "metadata": {},
     "output_type": "display_data"
    },
    {
     "ename": "AttributeError",
     "evalue": "module 'pandas' has no attribute 'dataframes'",
     "output_type": "error",
     "traceback": [
      "\u001b[0;31m---------------------------------------------------------------------------\u001b[0m",
      "\u001b[0;31mAttributeError\u001b[0m                            Traceback (most recent call last)",
      "\u001b[0;32m<ipython-input-27-d8cb86035bde>\u001b[0m in \u001b[0;36m<module>\u001b[0;34m()\u001b[0m\n\u001b[1;32m     25\u001b[0m  ))\n\u001b[1;32m     26\u001b[0m \u001b[0;34m\u001b[0m\u001b[0m\n\u001b[0;32m---> 27\u001b[0;31m \u001b[0mfinalData\u001b[0m\u001b[0;34m=\u001b[0m\u001b[0mpd\u001b[0m\u001b[0;34m.\u001b[0m\u001b[0mdataframes\u001b[0m\u001b[0;34m(\u001b[0m\u001b[0;34m)\u001b[0m\u001b[0;34m\u001b[0m\u001b[0m\n\u001b[0m",
      "\u001b[0;31mAttributeError\u001b[0m: module 'pandas' has no attribute 'dataframes'"
     ]
    }
   ],
   "source": [
    "from IPython.display import HTML, display\n",
    "import qexpy as q\n",
    "import pandas as pd\n",
    "\n",
    "data = [['Voltage [V]','Diameter [cm]','Current [A]'],\n",
    "         [166,5,2.001],\n",
    "         [226,6,2.001],\n",
    "         [295,7,2.001],\n",
    "         [382,8,2.001],\n",
    "         [476,9,2.001]]\n",
    "uncertainty =[[u'$\\Delta$''V (Voltage)',u'$\\Delta$''D (Diameter in cm)',u'$\\Delta$''I (Current in Amps)'],\n",
    "             [.1,1,0.001]]\n",
    "display(HTML(\n",
    "    '<table><tr>{}</tr></table>'.format(\n",
    "        '</tr><tr>'.join(\n",
    "            '<td>{}</td>'.format('</td><td>'.join(str(_) for _ in row)) for row in uncertainty)\n",
    "        )\n",
    " ))\n",
    "\n",
    "display(HTML(\n",
    "    '<table><tr>{}</tr></table>'.format(\n",
    "        '</tr><tr>'.join(\n",
    "            '<td>{}</td>'.format('</td><td>'.join(str(_) for _ in row)) for row in data)\n",
    "        )\n",
    " ))\n",
    "\n",
    "finalData=pd.dataframes()"
   ]
  },
  {
   "cell_type": "code",
   "execution_count": 20,
   "metadata": {},
   "outputs": [
    {
     "name": "stdout",
     "output_type": "stream",
     "text": [
      "3 +/- 2\n"
     ]
    }
   ],
   "source": [
    "\n",
    "import qexpy as q\n",
    "x = q.Measurement(10,1)\n",
    "y = q.Measurement(5,3)\n",
    "#define a quantity that depends on x and y:\n",
    "z = (x+y)/(x-y)\n",
    "#print z, with the correct error\n",
    "print(z)"
   ]
  },
  {
   "cell_type": "code",
   "execution_count": null,
   "metadata": {
    "collapsed": true
   },
   "outputs": [],
   "source": []
  },
  {
   "cell_type": "code",
   "execution_count": null,
   "metadata": {
    "collapsed": true
   },
   "outputs": [],
   "source": []
  },
  {
   "cell_type": "markdown",
   "metadata": {},
   "source": [
    "# Result and Analysis"
   ]
  },
  {
   "cell_type": "code",
   "execution_count": null,
   "metadata": {
    "collapsed": true
   },
   "outputs": [],
   "source": []
  },
  {
   "cell_type": "code",
   "execution_count": null,
   "metadata": {
    "collapsed": true
   },
   "outputs": [],
   "source": []
  },
  {
   "cell_type": "code",
   "execution_count": null,
   "metadata": {
    "collapsed": true
   },
   "outputs": [],
   "source": []
  },
  {
   "cell_type": "code",
   "execution_count": null,
   "metadata": {
    "collapsed": true
   },
   "outputs": [],
   "source": []
  },
  {
   "cell_type": "code",
   "execution_count": null,
   "metadata": {
    "collapsed": true
   },
   "outputs": [],
   "source": []
  },
  {
   "cell_type": "code",
   "execution_count": null,
   "metadata": {
    "collapsed": true
   },
   "outputs": [],
   "source": []
  },
  {
   "cell_type": "code",
   "execution_count": null,
   "metadata": {
    "collapsed": true
   },
   "outputs": [],
   "source": []
  },
  {
   "cell_type": "code",
   "execution_count": null,
   "metadata": {
    "collapsed": true
   },
   "outputs": [],
   "source": []
  }
 ],
 "metadata": {
  "kernelspec": {
   "display_name": "Python 3",
   "language": "python",
   "name": "python3"
  },
  "language_info": {
   "codemirror_mode": {
    "name": "ipython",
    "version": 3
   },
   "file_extension": ".py",
   "mimetype": "text/x-python",
   "name": "python",
   "nbconvert_exporter": "python",
   "pygments_lexer": "ipython3",
   "version": "3.6.1"
  }
 },
 "nbformat": 4,
 "nbformat_minor": 2
}
