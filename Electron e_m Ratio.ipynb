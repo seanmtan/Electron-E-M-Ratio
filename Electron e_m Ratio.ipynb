{
 "cells": [
  {
   "cell_type": "markdown",
   "metadata": {},
   "source": [
    "# Header\n",
    "<h4>Calculating the Electron charge to mass ratio</h4>\n",
    "Sean Tan, Justin Marin, Mihir Lad\n",
    "<br>June 30th 2016\n",
    "<br>\n"
   ]
  },
  {
   "cell_type": "markdown",
   "metadata": {},
   "source": [
    "\n",
    "# Experimental Method\n",
    "The method we used is similar to that used by J.J. Thompson, who was the first to make a direct measurement of the charge to mass ratio of the electron.\n",
    "\n",
    "The first apparatus that we used included a Helmholtz coil that produced a uniform magnetic field between the two coils and held a discharge tube filled with helium gas and a cm scale for measuring the radius of the curvature of the electron path. \n",
    "\n",
    "The second apparatus contained the power supply that provides the current for the Helmholtz coils and the voltage for the electron source. \n",
    "\n",
    "As the electrons leave the gun with a known velocity, it will enter the discharge tube and curve relative to the magnetic field created by the Helmholtz coils. \n",
    "\n",
    "By measuring the radius of the curvature as a function of the magnetic field and the accelerating potential, you will be able to obtain a data set from which the ratio e/m can be determined.\n",
    "\n",
    "\n",
    "The equation for the increase in kinetic engery from the accelerating potential of $V_{0}$ is\n",
    "\n",
    "<br>\n",
    "            \n",
    "e$V_{0}$=m$v^{2}$/2\n",
    " \n",
    "<br>\n",
    "\n",
    "When the electron enters the discharge tube with a speed perpindicular to the magnetic field created by the coils, the force on the charge can be found using \n",
    "\n",
    "<br>\n",
    "         \n",
    "$\\vec{F}$=e$\\vec{v}$x$\\vec{B}$\n",
    "\n",
    "<br>\n",
    " \n",
    "Because B and v are perpendicular, the cross product reduces to give a simpler relation of\n",
    "\n",
    "<br>\n",
    "           \n",
    "F=evB=m$v^{2}$/R\n",
    "           \n",
    "<br>\n",
    "\n",
    "\n",
    "Rearranging to isolate the $\\frac{e}{m}$ ratio we get\n",
    "\n",
    "<br>\n",
    "           \n",
    "$\\frac{e}{m}$=$\\frac{2V_{0}}{R^{2}B^{2}}$\n",
    "            \n",
    "<br>\n",
    "\n",
    "By measuring for R for different combinations of $V_{0}$ and B we can determine the $\\frac{e}{m}$ of the electron.\n"
   ]
  },
  {
   "cell_type": "markdown",
   "metadata": {},
   "source": [
    "# Data\n",
    "Keeping the current constant, we adjusted the voltage to create 5 distinct curvature diameters distances starting from 5 cm. At each increment of 1+/-0.1 cm, we recorded the voltage needed to achieve that distance from the electron emission source.\n"
   ]
  },
  {
   "cell_type": "code",
   "execution_count": 354,
   "metadata": {},
   "outputs": [
    {
     "data": {
      "text/html": [
       "<table><tr><td>$\\Delta$V (Voltage)</td><td>$\\Delta$D (Diameter in cm)</td><td>$\\Delta$I (Current in Amps)</td></tr><tr><td>1</td><td>0.1</td><td>0.001</td></tr></table>"
      ],
      "text/plain": [
       "<IPython.core.display.HTML object>"
      ]
     },
     "metadata": {},
     "output_type": "display_data"
    },
    {
     "data": {
      "text/html": [
       "<table><tr><td>Voltage (V)</td><td>Diameter (cm)</td><td>Current (A)</td></tr><tr><td>166</td><td>5</td><td>2.0</td></tr><tr><td>226</td><td>6</td><td>2.0</td></tr><tr><td>295</td><td>7</td><td>2.0</td></tr><tr><td>382</td><td>8</td><td>2.0</td></tr><tr><td>476</td><td>9</td><td>2.0</td></tr></table>"
      ],
      "text/plain": [
       "<IPython.core.display.HTML object>"
      ]
     },
     "metadata": {},
     "output_type": "display_data"
    }
   ],
   "source": [
    "from IPython.display import HTML, display\n",
    "import qexpy as q\n",
    "import pandas as pd\n",
    "\n",
    "data = [['Voltage (V)', 'Diameter (cm)', 'Current (A)'],\n",
    "        [166,5,2.000],\n",
    "        [226,6,2.000],\n",
    "        [295,7,2.000],\n",
    "        [382,8,2.000],\n",
    "        [476,9,2.000]]\n",
    "\n",
    "uncertainty =[[u'$\\Delta$''V (Voltage)',u'$\\Delta$''D (Diameter in cm)',u'$\\Delta$''I (Current in Amps)'],\n",
    "             [1,.1,0.001]]\n",
    "display(HTML(\n",
    "    '<table><tr>{}</tr></table>'.format(\n",
    "        '</tr><tr>'.join(\n",
    "            '<td>{}</td>'.format('</td><td>'.join(str(_) for _ in row)) for row in uncertainty)\n",
    "        )\n",
    " ))\n",
    "\n",
    "display(HTML(\n",
    "    '<table><tr>{}</tr></table>'.format(\n",
    "        '</tr><tr>'.join(\n",
    "            '<td>{}</td>'.format('</td><td>'.join(str(_) for _ in row)) for row in data)\n",
    "        )\n",
    " ))"
   ]
  },
  {
   "cell_type": "markdown",
   "metadata": {},
   "source": [
    "# Result and Analysis\n",
    "To calculate the propagation of the uncertainties from each value I decided to convert our list of data points with the ufloat() function from the uncertainties package.  "
   ]
  },
  {
   "cell_type": "code",
   "execution_count": 355,
   "metadata": {},
   "outputs": [],
   "source": [
    "from uncertainties import ufloat\n",
    "import numpy as np\n",
    "import matplotlib.pyplot as plt\n",
    "from scipy import stats\n",
    "\n",
    "voltage = np.array([ufloat(166, 1), ufloat(226,1), ufloat(295,1), ufloat(382,1),ufloat(476,1)])\n",
    "radius = np.array([ufloat(0.05,0.001), ufloat(0.06,0.001), ufloat(0.07,0.001), ufloat(0.08,0.001), ufloat(0.09,0.001)])/2\n",
    "current = np.array([ufloat(2.001,0.001), ufloat(2.001,0.001), ufloat(2.001,0.001), ufloat(2.001,0.001), ufloat(2.001,0.001)])"
   ]
  },
  {
   "cell_type": "markdown",
   "metadata": {},
   "source": [
    "To calculate the magnetic field created by the two Helmholtz Coils, we used the equation\n",
    "    \n",
    "$B={\\mu}_{0}\\bullet\\frac{8\\bullet I \\bullet N}{\\sqrt{125}\\bullet R}$\n",
    "\n",
    "With the given constants, we arrive at a simplified form of \n",
    "\n",
    "$B={7.99}\\bullet {10^4}\\bullet I$\n"
   ]
  },
  {
   "cell_type": "code",
   "execution_count": 356,
   "metadata": {},
   "outputs": [
    {
     "name": "stdout",
     "output_type": "stream",
     "text": [
      "e/m Ratio for each data point\n",
      "['2.078E+11+/-0.084E+11' '1.965E+11+/-0.066E+11' '1.884E+11+/-0.054E+11'\n",
      " '1.868E+11+/-0.047E+11' '1.839E+11+/-0.041E+11']\n"
     ]
    }
   ],
   "source": [
    "\n",
    "bField = 7.99*10**(-4)*current\n",
    "\n",
    "#Using the arrays for voltage, radius, and bField, we are able to calculate an array with the e/m ratio for each data point\n",
    "ratio = ((2*voltage)/((radius**2)*(bField**2)))\n",
    "\n",
    "\n",
    "#Converting ratio values to scientific notation\n",
    "formatting_function = np.vectorize(lambda f: format(f, '6.3E'))\n",
    "print ('e/m Ratio for each data point')\n",
    "print (formatting_function(ratio))\n",
    "\n"
   ]
  },
  {
   "cell_type": "code",
   "execution_count": 357,
   "metadata": {},
   "outputs": [
    {
     "name": "stdout",
     "output_type": "stream",
     "text": [
      "Mean is (1.927+/-0.027)e+11\n",
      "Standard Deviation is 8.63509e+09\n"
     ]
    }
   ],
   "source": [
    "#Creating lists of the nominal values for the data to plot on the graph \n",
    "nominalVoltage = []\n",
    "nominalRadius = []\n",
    "nominalBField = []\n",
    "nominalRatio = []\n",
    "\n",
    "for x in range(0, 5):\n",
    "    nominalVoltage.append(voltage[x].nominal_value)\n",
    "    nominalRadius.append(radius[x].nominal_value)\n",
    "    nominalBField.append(bField[x].nominal_value)\n",
    "    nominalRatio.append(ratio[x].nominal_value)\n",
    "\n",
    "y = np.array(nominalRadius)\n",
    "y = (1/(y)**2)\n",
    "\n",
    "x= (np.array(nominalBField)**2)/(2*np.array(nominalVoltage))\n",
    "\n",
    "ratio_array = np.array(nominalRatio, dtype=np.float32)\n",
    "mean_ratio = ratio.mean()\n",
    "std_ratio = ratio_array.std()\n",
    "print(\"Mean is\", mean_ratio)\n",
    "print(\"Standard Deviation is\", std_ratio)\n"
   ]
  },
  {
   "cell_type": "markdown",
   "metadata": {},
   "source": [
    "The expected value for the ratio between charge and mass of an electron is \n",
    "\n",
    "$\\frac{e}{m}\\approx 1.759\\bullet {10^{11}} \\frac{C}{kg}$\n",
    "\n",
    "We see that with this calculation, our observed mean value is within 2 standard deviation of the expected ratio.\n"
   ]
  },
  {
   "cell_type": "markdown",
   "metadata": {},
   "source": [
    "Another method we used to calculate the e/m ratio is to rearrange the original equation into\n",
    "\n",
    "$\\frac{1}{R^2} = \\frac{B^2}{2 V_{0}}\\bullet (\\frac{e}{m})$\n",
    "\n",
    "then, plotting $\\frac{1}{R^2}$ with $\\frac{B^2}{2 V_{0}}$ to find the observed slope.\n",
    "\n",
    "Because we know that the expected result will be a linear relationship between $\\frac{1}{R^2}$ and $\\frac{B^2}{2 V_{0}}$ with a slope of $\\frac{e}{m}$, we can compare that to the slope from our observed data points."
   ]
  },
  {
   "cell_type": "code",
   "execution_count": 358,
   "metadata": {},
   "outputs": [
    {
     "data": {
      "image/png": "[encoded data removed]",
      "text/plain": [
       "<matplotlib.figure.Figure at 0x11275c1d0>"
      ]
     },
     "metadata": {},
     "output_type": "display_data"
    },
    {
     "name": "stdout",
     "output_type": "stream",
     "text": [
      "Observed e/m ratio 220770595905.0\n",
      "Expected e/m ratio 175800000000.0\n",
      "Observed y-intercept -117.983743924\n"
     ]
    },
    {
     "data": {
      "text/plain": [
       "Power_divergenceResult(statistic=66.752256471630133, pvalue=1.099483308560576e-13)"
      ]
     },
     "execution_count": 358,
     "metadata": {},
     "output_type": "execute_result"
    }
   ],
   "source": [
    "\n",
    "plt.plot(x, y, marker='o', linestyle = 'None')\n",
    "slope, intercept = np.polyfit(x, y, 1)\n",
    "\n",
    "observed_fit = [(slope) * i + intercept for i in x]\n",
    "expected_fit = [(1.758*10**11) * i  for i in x]\n",
    "\n",
    "plt.plot(x, observed_fit, '-')\n",
    "plt.plot(x, expected_fit, '--')\n",
    "expected_slope, expected_intercept = np.polyfit(x, expected_fit, 1)\n",
    "\n",
    "plt.show()\n",
    "print('Observed e/m ratio',slope)\n",
    "print('Expected e/m ratio', expected_slope)\n",
    "\n",
    "print('Observed y-intercept', intercept)\n",
    "\n",
    "observed_values=scipy.array(observed_fit)\n",
    "expected_values=scipy.array(expected_fit)\n",
    "\n",
    "scipy.stats.chisquare(observed_values, f_exp=expected_values)\n"
   ]
  },
  {
   "cell_type": "markdown",
   "metadata": {},
   "source": [
    "# Conclusion"
   ]
  },
  {
   "cell_type": "markdown",
   "metadata": {},
   "source": [
    "We can conclude that our measument from taking the mean of the data points resulted in a more accurate calculation of the e/m ratio.The expected value for the ratio between the charge and the mass of the electron was 1.758820024 × 10e11 C ∙ kg−1. However, the average q/m that we measured was (1.927+/-0.027)e+11 C/kg. There were different components in our experiment that could have caused this discrepancy in our data but the two most realistic factors were the eye-measured diameter of the electron path and the power source that we were using. Because each diameter measurement was measured with our eyes, the human factor is a big contributor to the errors we may have made. The power source was also a large contributor because it powered the current through the coil, the voltage between the anodes, as well as the heater. With multiple apparatus relying on a single power source, any small uncertainty can compound into larger margin of error through uncertainty propagation. One of the reason why our linear plotting analysis may have been less accurate than the mean is because in theory, the radius could never reach 0 due to the y value being $\\frac{1}{R^2}$. This means that the points may fit better on a exponential curve."
   ]
  }
 ],
 "metadata": {
  "kernelspec": {
   "display_name": "Python 3",
   "language": "python",
   "name": "python3"
  },
  "language_info": {
   "codemirror_mode": {
    "name": "ipython",
    "version": 3
   },
   "file_extension": ".py",
   "mimetype": "text/x-python",
   "name": "python",
   "nbconvert_exporter": "python",
   "pygments_lexer": "ipython3",
   "version": "3.6.1"
  }
 },
 "nbformat": 4,
 "nbformat_minor": 2
}
